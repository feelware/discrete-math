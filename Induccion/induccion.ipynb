{
 "cells": [
  {
   "cell_type": "markdown",
   "metadata": {},
   "source": [
    "# Inducción y Sumatoria\n",
    "\n",
    "- **Alumno**: Jesus Stevan Diaz Ingol\n",
    "- **Curso**: Matemática Discreta\n",
    "- **Docente**: Dr. Ciro Rodríguez Rodríguez\n",
    "\n",
    "*UNMSM. 2023*"
   ]
  },
  {
   "cell_type": "markdown",
   "metadata": {},
   "source": [
    "## Funciones\n",
    "Estas funciones serán usadas en los siguientes ejemplos y ejercicios."
   ]
  },
  {
   "cell_type": "code",
   "execution_count": 7,
   "metadata": {},
   "outputs": [],
   "source": [
    "from IPython.display import display, Math, Markdown as Md\n",
    "try:\n",
    "    from sympy import symbols, sympify, expand, latex, evaluate as eva\n",
    "except ImportError:\n",
    "    import os\n",
    "    os.system('python -m pip install sympy')\n",
    "    try:\n",
    "        from sympy import symbols, sympify, expand, latex, evaluate as eva\n",
    "    except ImportError:\n",
    "        os.system('python3 -m pip install sympy')\n",
    "        from sympy import symbols, sympify, expand, latex, evaluate as eva\n",
    "\n",
    "def prueba_induccion(base, term, sum):\n",
    "    i, n, k = symbols('i n k')\n",
    "    term, sum = sympify(term), sympify(sum)\n",
    "\n",
    "    # Definimos predicado\n",
    "\n",
    "    display(Math(f\"\\\\text{{Queremos demostrar }} \\\\forall n \\in \\mathbb{{Z}}, n \\geq {base}:\"))\n",
    "    display(Md(f\"$$P(n): \\sum_{{i={base}}}^n ({latex(term)}) = {latex(sum)} \\equiv V$$\"))\n",
    "\n",
    "    # Evaluamos caso base\n",
    "\n",
    "    display(Math(f\"\\\\text{{Evaluamos caso base P({base}):}}\"))\n",
    "    \n",
    "    with eva(False): \n",
    "        ant, cons = term.subs(i, base), sum.subs(n, base)\n",
    "    display(Md(f\"$$P({base}): {latex(ant)} = {latex(cons)}$$\"))\n",
    "\n",
    "    ant, cons = term.subs(i, base), sum.subs(n, base)\n",
    "    display(Md(f\"$$P({base}): {latex(ant)} = {latex(cons)}$$\"))\n",
    "\n",
    "    if ant == cons:\n",
    "        display(Md(f\"$$P({base}) \\equiv V$$\"))\n",
    "    else:\n",
    "        display(Md(f\"$$P({base}) \\equiv F$$\"))\n",
    "        display(Math(f\"$$\\\\text{{Finalmente:}}$$\"))\n",
    "        display(Md(f\"$$P(n) \\equiv F$$\"))\n",
    "        return False\n",
    "    \n",
    "    # Evaluamos caso inductivo\n",
    "    \n",
    "    display(Math(\"\\\\text{{Asumiendo }} P(k) \\equiv V \\\\text{{ evaluamos }} P(k+1):\"))\n",
    "\n",
    "    with eva(False): \n",
    "        ant = f\"\\sum_{{i={base}}}^{{{k+1}}} ({latex(term)})\"\n",
    "        cons = f\"{latex(sum.subs(n, k+1))}\"\n",
    "        display(Md(f\"$$P(k+1): {ant} = {cons}$$\"))\n",
    "\n",
    "        ant = f\"\\sum_{{i={base}}}^{{{k}}} ({latex(term)}) + ({latex(term.subs(i, k+1))})\"\n",
    "        display(Md(f\"$$P(k+1): {ant} = {cons}$$\"))\n",
    "\n",
    "        ant, cons = sum.subs(n, k) + term.subs(i, k+1), sum.subs(n, k+1)\n",
    "        display(Md(f\"$$P(k+1): {latex(ant)} = {latex(cons)}$$\"))\n",
    "\n",
    "    ant, cons = expand(ant), expand(cons)\n",
    "    display(Md(f\"$$P(k+1): {latex(ant)} = {latex(cons)}$$\"))\n",
    "\n",
    "    if ant == cons:\n",
    "        display(Md(f\"$$P(k+1) \\equiv V$$\"))\n",
    "        display(Math(f\"\\\\text{{Finalmente:}}\"))\n",
    "        display(Md(f\"$$P(k) \\\\rightarrow P(k+1) \\equiv V$$\"))\n",
    "        display(Md(f\"$$\\\\therefore P(n) \\equiv V$$\"))\n",
    "    else:\n",
    "        display(Md(f\"$$P(k+1) \\equiv F$$\"))\n",
    "        display(Math(f\"\\\\text{{Finalmente:}}\"))\n",
    "        display(Md(f\"$$P(k) \\\\rightarrow P(k+1) \\equiv F$$\"))\n",
    "        display(Md(f\"$$\\\\therefore P(n) \\equiv F$$\"))\n",
    "        return False\n",
    "    \n",
    "    return True"
   ]
  },
  {
   "cell_type": "markdown",
   "metadata": {},
   "source": [
    "## Ejemplo 1\n",
    "$\\text{¿Cómo sumar los primeros 100 números naturales?}$\n",
    "\n",
    "### Resolución\n",
    "$\\text{La suma de los primeros 100 números naturales se puede expresar como la siguiente sumatoria:}$\n",
    "\n",
    "$$\\sum_{i=1}^{100} i$$\n",
    "\n",
    "$\\text{La cual equivale a la siguiente expresión:}$\n",
    "\n",
    "$$\\frac{100(100+1)}{2}$$\n",
    "\n",
    "$\\text{En general, la suma de los primeros } n \\text{ números naturales se puede expresar como:}$\n",
    "\n",
    "$$\\sum_{i=1}^{n} i = \\frac{n(n+1)}{2}$$\n",
    "\n",
    "$\\text{Lo cual se puede demostrar por inducción matemática.}$"
   ]
  },
  {
   "cell_type": "code",
   "execution_count": 8,
   "metadata": {},
   "outputs": [
    {
     "data": {
      "text/latex": [
       "$\\displaystyle \\text{Queremos demostrar } \\forall n \\in \\mathbb{Z}, n \\geq 1:$"
      ],
      "text/plain": [
       "<IPython.core.display.Math object>"
      ]
     },
     "metadata": {},
     "output_type": "display_data"
    },
    {
     "data": {
      "text/markdown": [
       "$$P(n): \\sum_{i=1}^n (i) = \\frac{n \\left(n + 1\\right)}{2} \\equiv V$$"
      ],
      "text/plain": [
       "<IPython.core.display.Markdown object>"
      ]
     },
     "metadata": {},
     "output_type": "display_data"
    },
    {
     "data": {
      "text/latex": [
       "$\\displaystyle \\text{Evaluamos caso base P(1):}$"
      ],
      "text/plain": [
       "<IPython.core.display.Math object>"
      ]
     },
     "metadata": {},
     "output_type": "display_data"
    },
    {
     "data": {
      "text/markdown": [
       "$$P(1): 1 = \\frac{1}{2} \\cdot 1 \\cdot \\left(1 + 1\\right)$$"
      ],
      "text/plain": [
       "<IPython.core.display.Markdown object>"
      ]
     },
     "metadata": {},
     "output_type": "display_data"
    },
    {
     "data": {
      "text/markdown": [
       "$$P(1): 1 = 1$$"
      ],
      "text/plain": [
       "<IPython.core.display.Markdown object>"
      ]
     },
     "metadata": {},
     "output_type": "display_data"
    },
    {
     "data": {
      "text/markdown": [
       "$$P(1) \\equiv V$$"
      ],
      "text/plain": [
       "<IPython.core.display.Markdown object>"
      ]
     },
     "metadata": {},
     "output_type": "display_data"
    },
    {
     "data": {
      "text/latex": [
       "$\\displaystyle \\text{{Asumiendo }} P(k) \\equiv V \\text{{ evaluamos }} P(k+1):$"
      ],
      "text/plain": [
       "<IPython.core.display.Math object>"
      ]
     },
     "metadata": {},
     "output_type": "display_data"
    },
    {
     "data": {
      "text/markdown": [
       "$$P(k+1): \\sum_{i=1}^{k + 1} (i) = \\frac{\\left(k + 1\\right) \\left(\\left(k + 1\\right) + 1\\right)}{2}$$"
      ],
      "text/plain": [
       "<IPython.core.display.Markdown object>"
      ]
     },
     "metadata": {},
     "output_type": "display_data"
    },
    {
     "data": {
      "text/markdown": [
       "$$P(k+1): \\sum_{i=1}^{k} (i) + (k + 1) = \\frac{\\left(k + 1\\right) \\left(\\left(k + 1\\right) + 1\\right)}{2}$$"
      ],
      "text/plain": [
       "<IPython.core.display.Markdown object>"
      ]
     },
     "metadata": {},
     "output_type": "display_data"
    },
    {
     "data": {
      "text/markdown": [
       "$$P(k+1): \\frac{k \\left(k + 1\\right)}{2} + \\left(k + 1\\right) = \\frac{\\left(k + 1\\right) \\left(\\left(k + 1\\right) + 1\\right)}{2}$$"
      ],
      "text/plain": [
       "<IPython.core.display.Markdown object>"
      ]
     },
     "metadata": {},
     "output_type": "display_data"
    },
    {
     "data": {
      "text/markdown": [
       "$$P(k+1): \\frac{k^{2}}{2} + \\frac{3 k}{2} + 1 = \\frac{k^{2}}{2} + \\frac{3 k}{2} + 1$$"
      ],
      "text/plain": [
       "<IPython.core.display.Markdown object>"
      ]
     },
     "metadata": {},
     "output_type": "display_data"
    },
    {
     "data": {
      "text/markdown": [
       "$$P(k+1) \\equiv V$$"
      ],
      "text/plain": [
       "<IPython.core.display.Markdown object>"
      ]
     },
     "metadata": {},
     "output_type": "display_data"
    },
    {
     "data": {
      "text/latex": [
       "$\\displaystyle \\text{Finalmente:}$"
      ],
      "text/plain": [
       "<IPython.core.display.Math object>"
      ]
     },
     "metadata": {},
     "output_type": "display_data"
    },
    {
     "data": {
      "text/markdown": [
       "$$P(k) \\rightarrow P(k+1) \\equiv V$$"
      ],
      "text/plain": [
       "<IPython.core.display.Markdown object>"
      ]
     },
     "metadata": {},
     "output_type": "display_data"
    },
    {
     "data": {
      "text/markdown": [
       "$$\\therefore P(n) \\equiv V$$"
      ],
      "text/plain": [
       "<IPython.core.display.Markdown object>"
      ]
     },
     "metadata": {},
     "output_type": "display_data"
    },
    {
     "data": {
      "text/plain": [
       "True"
      ]
     },
     "execution_count": 8,
     "metadata": {},
     "output_type": "execute_result"
    }
   ],
   "source": [
    "prueba_induccion(1, \"i\", \"n*(n+1)/2\")"
   ]
  },
  {
   "cell_type": "markdown",
   "metadata": {},
   "source": [
    "## Ejemplo 2\n",
    "$\\text{Probar } \\forall n \\in \\mathbb{N}$\n",
    "\n",
    "$$\\sum_{i=1}^{n} i(i+2) = \\frac{n(n+1)(2n+7)}{6}$$"
   ]
  },
  {
   "cell_type": "code",
   "execution_count": 9,
   "metadata": {},
   "outputs": [
    {
     "data": {
      "text/latex": [
       "$\\displaystyle \\text{Queremos demostrar } \\forall n \\in \\mathbb{Z}, n \\geq 1:$"
      ],
      "text/plain": [
       "<IPython.core.display.Math object>"
      ]
     },
     "metadata": {},
     "output_type": "display_data"
    },
    {
     "data": {
      "text/markdown": [
       "$$P(n): \\sum_{i=1}^n (i \\left(i + 2\\right)) = \\frac{n \\left(n + 1\\right) \\left(2 n + 7\\right)}{6} \\equiv V$$"
      ],
      "text/plain": [
       "<IPython.core.display.Markdown object>"
      ]
     },
     "metadata": {},
     "output_type": "display_data"
    },
    {
     "data": {
      "text/latex": [
       "$\\displaystyle \\text{Evaluamos caso base P(1):}$"
      ],
      "text/plain": [
       "<IPython.core.display.Math object>"
      ]
     },
     "metadata": {},
     "output_type": "display_data"
    },
    {
     "data": {
      "text/markdown": [
       "$$P(1): 1 \\cdot \\left(1 + 2\\right) = \\frac{1}{6} \\cdot 1 \\cdot \\left(1 + 1\\right) \\left(2 \\cdot 1 + 7\\right)$$"
      ],
      "text/plain": [
       "<IPython.core.display.Markdown object>"
      ]
     },
     "metadata": {},
     "output_type": "display_data"
    },
    {
     "data": {
      "text/markdown": [
       "$$P(1): 3 = 3$$"
      ],
      "text/plain": [
       "<IPython.core.display.Markdown object>"
      ]
     },
     "metadata": {},
     "output_type": "display_data"
    },
    {
     "data": {
      "text/markdown": [
       "$$P(1) \\equiv V$$"
      ],
      "text/plain": [
       "<IPython.core.display.Markdown object>"
      ]
     },
     "metadata": {},
     "output_type": "display_data"
    },
    {
     "data": {
      "text/latex": [
       "$\\displaystyle \\text{{Asumiendo }} P(k) \\equiv V \\text{{ evaluamos }} P(k+1):$"
      ],
      "text/plain": [
       "<IPython.core.display.Math object>"
      ]
     },
     "metadata": {},
     "output_type": "display_data"
    },
    {
     "data": {
      "text/markdown": [
       "$$P(k+1): \\sum_{i=1}^{k + 1} (i \\left(i + 2\\right)) = \\frac{\\left(k + 1\\right) \\left(\\left(k + 1\\right) + 1\\right) \\left(2 \\left(k + 1\\right) + 7\\right)}{6}$$"
      ],
      "text/plain": [
       "<IPython.core.display.Markdown object>"
      ]
     },
     "metadata": {},
     "output_type": "display_data"
    },
    {
     "data": {
      "text/markdown": [
       "$$P(k+1): \\sum_{i=1}^{k} (i \\left(i + 2\\right)) + (\\left(k + 1\\right) \\left(\\left(k + 1\\right) + 2\\right)) = \\frac{\\left(k + 1\\right) \\left(\\left(k + 1\\right) + 1\\right) \\left(2 \\left(k + 1\\right) + 7\\right)}{6}$$"
      ],
      "text/plain": [
       "<IPython.core.display.Markdown object>"
      ]
     },
     "metadata": {},
     "output_type": "display_data"
    },
    {
     "data": {
      "text/markdown": [
       "$$P(k+1): \\frac{k \\left(k + 1\\right) \\left(2 k + 7\\right)}{6} + \\left(k + 1\\right) \\left(\\left(k + 1\\right) + 2\\right) = \\frac{\\left(k + 1\\right) \\left(\\left(k + 1\\right) + 1\\right) \\left(2 \\left(k + 1\\right) + 7\\right)}{6}$$"
      ],
      "text/plain": [
       "<IPython.core.display.Markdown object>"
      ]
     },
     "metadata": {},
     "output_type": "display_data"
    },
    {
     "data": {
      "text/markdown": [
       "$$P(k+1): \\frac{k^{3}}{3} + \\frac{5 k^{2}}{2} + \\frac{31 k}{6} + 3 = \\frac{k^{3}}{3} + \\frac{5 k^{2}}{2} + \\frac{31 k}{6} + 3$$"
      ],
      "text/plain": [
       "<IPython.core.display.Markdown object>"
      ]
     },
     "metadata": {},
     "output_type": "display_data"
    },
    {
     "data": {
      "text/markdown": [
       "$$P(k+1) \\equiv V$$"
      ],
      "text/plain": [
       "<IPython.core.display.Markdown object>"
      ]
     },
     "metadata": {},
     "output_type": "display_data"
    },
    {
     "data": {
      "text/latex": [
       "$\\displaystyle \\text{Finalmente:}$"
      ],
      "text/plain": [
       "<IPython.core.display.Math object>"
      ]
     },
     "metadata": {},
     "output_type": "display_data"
    },
    {
     "data": {
      "text/markdown": [
       "$$P(k) \\rightarrow P(k+1) \\equiv V$$"
      ],
      "text/plain": [
       "<IPython.core.display.Markdown object>"
      ]
     },
     "metadata": {},
     "output_type": "display_data"
    },
    {
     "data": {
      "text/markdown": [
       "$$\\therefore P(n) \\equiv V$$"
      ],
      "text/plain": [
       "<IPython.core.display.Markdown object>"
      ]
     },
     "metadata": {},
     "output_type": "display_data"
    },
    {
     "data": {
      "text/plain": [
       "True"
      ]
     },
     "execution_count": 9,
     "metadata": {},
     "output_type": "execute_result"
    }
   ],
   "source": [
    "prueba_induccion(1, \"i*(i+2)\", \"(n*(n+1)*(2*n+7))/6\")"
   ]
  },
  {
   "cell_type": "markdown",
   "metadata": {},
   "source": [
    "## Ejercicios\n",
    "$\\text{Demostrar } \\forall n \\in \\mathbb{N}$\n",
    "\n",
    "$$\\sum_{i=1}^{n} (2n+3) = n²+4n$$\n",
    "$$\\sum_{i=1}^{n} (4n+5) = 2n²+7n$$\n",
    "$$\\sum_{i=1}^{n} (3n-2) = \\frac{n(3n-1)}{2}$$\n",
    "$$\\sum_{i=1}^{n} (6-n) = \\frac{n(11-n)}{2}$$\n",
    "$$\\sum_{i=1}^{n} (5-2n) = 4n-n^2$$"
   ]
  },
  {
   "cell_type": "code",
   "execution_count": 12,
   "metadata": {},
   "outputs": [
    {
     "data": {
      "text/markdown": [
       "### Ejercicio 1"
      ],
      "text/plain": [
       "<IPython.core.display.Markdown object>"
      ]
     },
     "metadata": {},
     "output_type": "display_data"
    },
    {
     "data": {
      "text/latex": [
       "$\\displaystyle \\text{Queremos demostrar } \\forall n \\in \\mathbb{Z}, n \\geq 1:$"
      ],
      "text/plain": [
       "<IPython.core.display.Math object>"
      ]
     },
     "metadata": {},
     "output_type": "display_data"
    },
    {
     "data": {
      "text/markdown": [
       "$$P(n): \\sum_{i=1}^n (2 i + 3) = n^{2} + 4 n \\equiv V$$"
      ],
      "text/plain": [
       "<IPython.core.display.Markdown object>"
      ]
     },
     "metadata": {},
     "output_type": "display_data"
    },
    {
     "data": {
      "text/latex": [
       "$\\displaystyle \\text{Evaluamos caso base P(1):}$"
      ],
      "text/plain": [
       "<IPython.core.display.Math object>"
      ]
     },
     "metadata": {},
     "output_type": "display_data"
    },
    {
     "data": {
      "text/markdown": [
       "$$P(1): 2 \\cdot 1 + 3 = 1^{2} + 4 \\cdot 1$$"
      ],
      "text/plain": [
       "<IPython.core.display.Markdown object>"
      ]
     },
     "metadata": {},
     "output_type": "display_data"
    },
    {
     "data": {
      "text/markdown": [
       "$$P(1): 5 = 5$$"
      ],
      "text/plain": [
       "<IPython.core.display.Markdown object>"
      ]
     },
     "metadata": {},
     "output_type": "display_data"
    },
    {
     "data": {
      "text/markdown": [
       "$$P(1) \\equiv V$$"
      ],
      "text/plain": [
       "<IPython.core.display.Markdown object>"
      ]
     },
     "metadata": {},
     "output_type": "display_data"
    },
    {
     "data": {
      "text/latex": [
       "$\\displaystyle \\text{{Asumiendo }} P(k) \\equiv V \\text{{ evaluamos }} P(k+1):$"
      ],
      "text/plain": [
       "<IPython.core.display.Math object>"
      ]
     },
     "metadata": {},
     "output_type": "display_data"
    },
    {
     "data": {
      "text/markdown": [
       "$$P(k+1): \\sum_{i=1}^{k + 1} (2 i + 3) = \\left(k + 1\\right)^{2} + 4 \\left(k + 1\\right)$$"
      ],
      "text/plain": [
       "<IPython.core.display.Markdown object>"
      ]
     },
     "metadata": {},
     "output_type": "display_data"
    },
    {
     "data": {
      "text/markdown": [
       "$$P(k+1): \\sum_{i=1}^{k} (2 i + 3) + (2 \\left(k + 1\\right) + 3) = \\left(k + 1\\right)^{2} + 4 \\left(k + 1\\right)$$"
      ],
      "text/plain": [
       "<IPython.core.display.Markdown object>"
      ]
     },
     "metadata": {},
     "output_type": "display_data"
    },
    {
     "data": {
      "text/markdown": [
       "$$P(k+1): \\left(k^{2} + 4 k\\right) + \\left(2 \\left(k + 1\\right) + 3\\right) = \\left(k + 1\\right)^{2} + 4 \\left(k + 1\\right)$$"
      ],
      "text/plain": [
       "<IPython.core.display.Markdown object>"
      ]
     },
     "metadata": {},
     "output_type": "display_data"
    },
    {
     "data": {
      "text/markdown": [
       "$$P(k+1): k^{2} + 6 k + 5 = k^{2} + 6 k + 5$$"
      ],
      "text/plain": [
       "<IPython.core.display.Markdown object>"
      ]
     },
     "metadata": {},
     "output_type": "display_data"
    },
    {
     "data": {
      "text/markdown": [
       "$$P(k+1) \\equiv V$$"
      ],
      "text/plain": [
       "<IPython.core.display.Markdown object>"
      ]
     },
     "metadata": {},
     "output_type": "display_data"
    },
    {
     "data": {
      "text/latex": [
       "$\\displaystyle \\text{Finalmente:}$"
      ],
      "text/plain": [
       "<IPython.core.display.Math object>"
      ]
     },
     "metadata": {},
     "output_type": "display_data"
    },
    {
     "data": {
      "text/markdown": [
       "$$P(k) \\rightarrow P(k+1) \\equiv V$$"
      ],
      "text/plain": [
       "<IPython.core.display.Markdown object>"
      ]
     },
     "metadata": {},
     "output_type": "display_data"
    },
    {
     "data": {
      "text/markdown": [
       "$$\\therefore P(n) \\equiv V$$"
      ],
      "text/plain": [
       "<IPython.core.display.Markdown object>"
      ]
     },
     "metadata": {},
     "output_type": "display_data"
    },
    {
     "data": {
      "text/markdown": [
       "### Ejercicio 2"
      ],
      "text/plain": [
       "<IPython.core.display.Markdown object>"
      ]
     },
     "metadata": {},
     "output_type": "display_data"
    },
    {
     "data": {
      "text/latex": [
       "$\\displaystyle \\text{Queremos demostrar } \\forall n \\in \\mathbb{Z}, n \\geq 1:$"
      ],
      "text/plain": [
       "<IPython.core.display.Math object>"
      ]
     },
     "metadata": {},
     "output_type": "display_data"
    },
    {
     "data": {
      "text/markdown": [
       "$$P(n): \\sum_{i=1}^n (4 i + 5) = 2 n^{2} + 7 n \\equiv V$$"
      ],
      "text/plain": [
       "<IPython.core.display.Markdown object>"
      ]
     },
     "metadata": {},
     "output_type": "display_data"
    },
    {
     "data": {
      "text/latex": [
       "$\\displaystyle \\text{Evaluamos caso base P(1):}$"
      ],
      "text/plain": [
       "<IPython.core.display.Math object>"
      ]
     },
     "metadata": {},
     "output_type": "display_data"
    },
    {
     "data": {
      "text/markdown": [
       "$$P(1): 4 \\cdot 1 + 5 = 2 \\cdot 1^{2} + 7 \\cdot 1$$"
      ],
      "text/plain": [
       "<IPython.core.display.Markdown object>"
      ]
     },
     "metadata": {},
     "output_type": "display_data"
    },
    {
     "data": {
      "text/markdown": [
       "$$P(1): 9 = 9$$"
      ],
      "text/plain": [
       "<IPython.core.display.Markdown object>"
      ]
     },
     "metadata": {},
     "output_type": "display_data"
    },
    {
     "data": {
      "text/markdown": [
       "$$P(1) \\equiv V$$"
      ],
      "text/plain": [
       "<IPython.core.display.Markdown object>"
      ]
     },
     "metadata": {},
     "output_type": "display_data"
    },
    {
     "data": {
      "text/latex": [
       "$\\displaystyle \\text{{Asumiendo }} P(k) \\equiv V \\text{{ evaluamos }} P(k+1):$"
      ],
      "text/plain": [
       "<IPython.core.display.Math object>"
      ]
     },
     "metadata": {},
     "output_type": "display_data"
    },
    {
     "data": {
      "text/markdown": [
       "$$P(k+1): \\sum_{i=1}^{k + 1} (4 i + 5) = 2 \\left(k + 1\\right)^{2} + 7 \\left(k + 1\\right)$$"
      ],
      "text/plain": [
       "<IPython.core.display.Markdown object>"
      ]
     },
     "metadata": {},
     "output_type": "display_data"
    },
    {
     "data": {
      "text/markdown": [
       "$$P(k+1): \\sum_{i=1}^{k} (4 i + 5) + (4 \\left(k + 1\\right) + 5) = 2 \\left(k + 1\\right)^{2} + 7 \\left(k + 1\\right)$$"
      ],
      "text/plain": [
       "<IPython.core.display.Markdown object>"
      ]
     },
     "metadata": {},
     "output_type": "display_data"
    },
    {
     "data": {
      "text/markdown": [
       "$$P(k+1): \\left(2 k^{2} + 7 k\\right) + \\left(4 \\left(k + 1\\right) + 5\\right) = 2 \\left(k + 1\\right)^{2} + 7 \\left(k + 1\\right)$$"
      ],
      "text/plain": [
       "<IPython.core.display.Markdown object>"
      ]
     },
     "metadata": {},
     "output_type": "display_data"
    },
    {
     "data": {
      "text/markdown": [
       "$$P(k+1): 2 k^{2} + 11 k + 9 = 2 k^{2} + 11 k + 9$$"
      ],
      "text/plain": [
       "<IPython.core.display.Markdown object>"
      ]
     },
     "metadata": {},
     "output_type": "display_data"
    },
    {
     "data": {
      "text/markdown": [
       "$$P(k+1) \\equiv V$$"
      ],
      "text/plain": [
       "<IPython.core.display.Markdown object>"
      ]
     },
     "metadata": {},
     "output_type": "display_data"
    },
    {
     "data": {
      "text/latex": [
       "$\\displaystyle \\text{Finalmente:}$"
      ],
      "text/plain": [
       "<IPython.core.display.Math object>"
      ]
     },
     "metadata": {},
     "output_type": "display_data"
    },
    {
     "data": {
      "text/markdown": [
       "$$P(k) \\rightarrow P(k+1) \\equiv V$$"
      ],
      "text/plain": [
       "<IPython.core.display.Markdown object>"
      ]
     },
     "metadata": {},
     "output_type": "display_data"
    },
    {
     "data": {
      "text/markdown": [
       "$$\\therefore P(n) \\equiv V$$"
      ],
      "text/plain": [
       "<IPython.core.display.Markdown object>"
      ]
     },
     "metadata": {},
     "output_type": "display_data"
    },
    {
     "data": {
      "text/markdown": [
       "### Ejercicio 3"
      ],
      "text/plain": [
       "<IPython.core.display.Markdown object>"
      ]
     },
     "metadata": {},
     "output_type": "display_data"
    },
    {
     "data": {
      "text/latex": [
       "$\\displaystyle \\text{Queremos demostrar } \\forall n \\in \\mathbb{Z}, n \\geq 1:$"
      ],
      "text/plain": [
       "<IPython.core.display.Math object>"
      ]
     },
     "metadata": {},
     "output_type": "display_data"
    },
    {
     "data": {
      "text/markdown": [
       "$$P(n): \\sum_{i=1}^n (3 i - 2) = \\frac{n \\left(3 n - 1\\right)}{2} \\equiv V$$"
      ],
      "text/plain": [
       "<IPython.core.display.Markdown object>"
      ]
     },
     "metadata": {},
     "output_type": "display_data"
    },
    {
     "data": {
      "text/latex": [
       "$\\displaystyle \\text{Evaluamos caso base P(1):}$"
      ],
      "text/plain": [
       "<IPython.core.display.Math object>"
      ]
     },
     "metadata": {},
     "output_type": "display_data"
    },
    {
     "data": {
      "text/markdown": [
       "$$P(1): -2 + 3 \\cdot 1 = \\frac{1}{2} \\cdot 1 \\left(-1 + 3 \\cdot 1\\right)$$"
      ],
      "text/plain": [
       "<IPython.core.display.Markdown object>"
      ]
     },
     "metadata": {},
     "output_type": "display_data"
    },
    {
     "data": {
      "text/markdown": [
       "$$P(1): 1 = 1$$"
      ],
      "text/plain": [
       "<IPython.core.display.Markdown object>"
      ]
     },
     "metadata": {},
     "output_type": "display_data"
    },
    {
     "data": {
      "text/markdown": [
       "$$P(1) \\equiv V$$"
      ],
      "text/plain": [
       "<IPython.core.display.Markdown object>"
      ]
     },
     "metadata": {},
     "output_type": "display_data"
    },
    {
     "data": {
      "text/latex": [
       "$\\displaystyle \\text{{Asumiendo }} P(k) \\equiv V \\text{{ evaluamos }} P(k+1):$"
      ],
      "text/plain": [
       "<IPython.core.display.Math object>"
      ]
     },
     "metadata": {},
     "output_type": "display_data"
    },
    {
     "data": {
      "text/markdown": [
       "$$P(k+1): \\sum_{i=1}^{k + 1} (3 i - 2) = \\frac{\\left(k + 1\\right) \\left(3 \\left(k + 1\\right) - 1\\right)}{2}$$"
      ],
      "text/plain": [
       "<IPython.core.display.Markdown object>"
      ]
     },
     "metadata": {},
     "output_type": "display_data"
    },
    {
     "data": {
      "text/markdown": [
       "$$P(k+1): \\sum_{i=1}^{k} (3 i - 2) + (3 \\left(k + 1\\right) - 2) = \\frac{\\left(k + 1\\right) \\left(3 \\left(k + 1\\right) - 1\\right)}{2}$$"
      ],
      "text/plain": [
       "<IPython.core.display.Markdown object>"
      ]
     },
     "metadata": {},
     "output_type": "display_data"
    },
    {
     "data": {
      "text/markdown": [
       "$$P(k+1): \\frac{k \\left(3 k - 1\\right)}{2} + \\left(3 \\left(k + 1\\right) - 2\\right) = \\frac{\\left(k + 1\\right) \\left(3 \\left(k + 1\\right) - 1\\right)}{2}$$"
      ],
      "text/plain": [
       "<IPython.core.display.Markdown object>"
      ]
     },
     "metadata": {},
     "output_type": "display_data"
    },
    {
     "data": {
      "text/markdown": [
       "$$P(k+1): \\frac{3 k^{2}}{2} + \\frac{5 k}{2} + 1 = \\frac{3 k^{2}}{2} + \\frac{5 k}{2} + 1$$"
      ],
      "text/plain": [
       "<IPython.core.display.Markdown object>"
      ]
     },
     "metadata": {},
     "output_type": "display_data"
    },
    {
     "data": {
      "text/markdown": [
       "$$P(k+1) \\equiv V$$"
      ],
      "text/plain": [
       "<IPython.core.display.Markdown object>"
      ]
     },
     "metadata": {},
     "output_type": "display_data"
    },
    {
     "data": {
      "text/latex": [
       "$\\displaystyle \\text{Finalmente:}$"
      ],
      "text/plain": [
       "<IPython.core.display.Math object>"
      ]
     },
     "metadata": {},
     "output_type": "display_data"
    },
    {
     "data": {
      "text/markdown": [
       "$$P(k) \\rightarrow P(k+1) \\equiv V$$"
      ],
      "text/plain": [
       "<IPython.core.display.Markdown object>"
      ]
     },
     "metadata": {},
     "output_type": "display_data"
    },
    {
     "data": {
      "text/markdown": [
       "$$\\therefore P(n) \\equiv V$$"
      ],
      "text/plain": [
       "<IPython.core.display.Markdown object>"
      ]
     },
     "metadata": {},
     "output_type": "display_data"
    },
    {
     "data": {
      "text/markdown": [
       "### Ejercicio 4"
      ],
      "text/plain": [
       "<IPython.core.display.Markdown object>"
      ]
     },
     "metadata": {},
     "output_type": "display_data"
    },
    {
     "data": {
      "text/latex": [
       "$\\displaystyle \\text{Queremos demostrar } \\forall n \\in \\mathbb{Z}, n \\geq 1:$"
      ],
      "text/plain": [
       "<IPython.core.display.Math object>"
      ]
     },
     "metadata": {},
     "output_type": "display_data"
    },
    {
     "data": {
      "text/markdown": [
       "$$P(n): \\sum_{i=1}^n (6 - i) = \\frac{n \\left(11 - n\\right)}{2} \\equiv V$$"
      ],
      "text/plain": [
       "<IPython.core.display.Markdown object>"
      ]
     },
     "metadata": {},
     "output_type": "display_data"
    },
    {
     "data": {
      "text/latex": [
       "$\\displaystyle \\text{Evaluamos caso base P(1):}$"
      ],
      "text/plain": [
       "<IPython.core.display.Math object>"
      ]
     },
     "metadata": {},
     "output_type": "display_data"
    },
    {
     "data": {
      "text/markdown": [
       "$$P(1): 6 - 1 = \\frac{1}{2} \\cdot 1 \\cdot \\left(11 - 1\\right)$$"
      ],
      "text/plain": [
       "<IPython.core.display.Markdown object>"
      ]
     },
     "metadata": {},
     "output_type": "display_data"
    },
    {
     "data": {
      "text/markdown": [
       "$$P(1): 5 = 5$$"
      ],
      "text/plain": [
       "<IPython.core.display.Markdown object>"
      ]
     },
     "metadata": {},
     "output_type": "display_data"
    },
    {
     "data": {
      "text/markdown": [
       "$$P(1) \\equiv V$$"
      ],
      "text/plain": [
       "<IPython.core.display.Markdown object>"
      ]
     },
     "metadata": {},
     "output_type": "display_data"
    },
    {
     "data": {
      "text/latex": [
       "$\\displaystyle \\text{{Asumiendo }} P(k) \\equiv V \\text{{ evaluamos }} P(k+1):$"
      ],
      "text/plain": [
       "<IPython.core.display.Math object>"
      ]
     },
     "metadata": {},
     "output_type": "display_data"
    },
    {
     "data": {
      "text/markdown": [
       "$$P(k+1): \\sum_{i=1}^{k + 1} (6 - i) = \\frac{\\left(11 - \\left(k + 1\\right)\\right) \\left(k + 1\\right)}{2}$$"
      ],
      "text/plain": [
       "<IPython.core.display.Markdown object>"
      ]
     },
     "metadata": {},
     "output_type": "display_data"
    },
    {
     "data": {
      "text/markdown": [
       "$$P(k+1): \\sum_{i=1}^{k} (6 - i) + (6 - \\left(k + 1\\right)) = \\frac{\\left(11 - \\left(k + 1\\right)\\right) \\left(k + 1\\right)}{2}$$"
      ],
      "text/plain": [
       "<IPython.core.display.Markdown object>"
      ]
     },
     "metadata": {},
     "output_type": "display_data"
    },
    {
     "data": {
      "text/markdown": [
       "$$P(k+1): \\frac{k \\left(11 - k\\right)}{2} + \\left(6 - \\left(k + 1\\right)\\right) = \\frac{\\left(11 - \\left(k + 1\\right)\\right) \\left(k + 1\\right)}{2}$$"
      ],
      "text/plain": [
       "<IPython.core.display.Markdown object>"
      ]
     },
     "metadata": {},
     "output_type": "display_data"
    },
    {
     "data": {
      "text/markdown": [
       "$$P(k+1): - \\frac{k^{2}}{2} + \\frac{9 k}{2} + 5 = - \\frac{k^{2}}{2} + \\frac{9 k}{2} + 5$$"
      ],
      "text/plain": [
       "<IPython.core.display.Markdown object>"
      ]
     },
     "metadata": {},
     "output_type": "display_data"
    },
    {
     "data": {
      "text/markdown": [
       "$$P(k+1) \\equiv V$$"
      ],
      "text/plain": [
       "<IPython.core.display.Markdown object>"
      ]
     },
     "metadata": {},
     "output_type": "display_data"
    },
    {
     "data": {
      "text/latex": [
       "$\\displaystyle \\text{Finalmente:}$"
      ],
      "text/plain": [
       "<IPython.core.display.Math object>"
      ]
     },
     "metadata": {},
     "output_type": "display_data"
    },
    {
     "data": {
      "text/markdown": [
       "$$P(k) \\rightarrow P(k+1) \\equiv V$$"
      ],
      "text/plain": [
       "<IPython.core.display.Markdown object>"
      ]
     },
     "metadata": {},
     "output_type": "display_data"
    },
    {
     "data": {
      "text/markdown": [
       "$$\\therefore P(n) \\equiv V$$"
      ],
      "text/plain": [
       "<IPython.core.display.Markdown object>"
      ]
     },
     "metadata": {},
     "output_type": "display_data"
    },
    {
     "data": {
      "text/markdown": [
       "### Ejercicio 5"
      ],
      "text/plain": [
       "<IPython.core.display.Markdown object>"
      ]
     },
     "metadata": {},
     "output_type": "display_data"
    },
    {
     "data": {
      "text/latex": [
       "$\\displaystyle \\text{Queremos demostrar } \\forall n \\in \\mathbb{Z}, n \\geq 1:$"
      ],
      "text/plain": [
       "<IPython.core.display.Math object>"
      ]
     },
     "metadata": {},
     "output_type": "display_data"
    },
    {
     "data": {
      "text/markdown": [
       "$$P(n): \\sum_{i=1}^n (5 - 2 i) = - n^{2} + 4 n \\equiv V$$"
      ],
      "text/plain": [
       "<IPython.core.display.Markdown object>"
      ]
     },
     "metadata": {},
     "output_type": "display_data"
    },
    {
     "data": {
      "text/latex": [
       "$\\displaystyle \\text{Evaluamos caso base P(1):}$"
      ],
      "text/plain": [
       "<IPython.core.display.Math object>"
      ]
     },
     "metadata": {},
     "output_type": "display_data"
    },
    {
     "data": {
      "text/markdown": [
       "$$P(1): 5 - 2 = - 1^{2} + 4 \\cdot 1$$"
      ],
      "text/plain": [
       "<IPython.core.display.Markdown object>"
      ]
     },
     "metadata": {},
     "output_type": "display_data"
    },
    {
     "data": {
      "text/markdown": [
       "$$P(1): 3 = 3$$"
      ],
      "text/plain": [
       "<IPython.core.display.Markdown object>"
      ]
     },
     "metadata": {},
     "output_type": "display_data"
    },
    {
     "data": {
      "text/markdown": [
       "$$P(1) \\equiv V$$"
      ],
      "text/plain": [
       "<IPython.core.display.Markdown object>"
      ]
     },
     "metadata": {},
     "output_type": "display_data"
    },
    {
     "data": {
      "text/latex": [
       "$\\displaystyle \\text{{Asumiendo }} P(k) \\equiv V \\text{{ evaluamos }} P(k+1):$"
      ],
      "text/plain": [
       "<IPython.core.display.Math object>"
      ]
     },
     "metadata": {},
     "output_type": "display_data"
    },
    {
     "data": {
      "text/markdown": [
       "$$P(k+1): \\sum_{i=1}^{k + 1} (5 - 2 i) = - \\left(k + 1\\right)^{2} + 4 \\left(k + 1\\right)$$"
      ],
      "text/plain": [
       "<IPython.core.display.Markdown object>"
      ]
     },
     "metadata": {},
     "output_type": "display_data"
    },
    {
     "data": {
      "text/markdown": [
       "$$P(k+1): \\sum_{i=1}^{k} (5 - 2 i) + (5 - 2 \\left(k + 1\\right)) = - \\left(k + 1\\right)^{2} + 4 \\left(k + 1\\right)$$"
      ],
      "text/plain": [
       "<IPython.core.display.Markdown object>"
      ]
     },
     "metadata": {},
     "output_type": "display_data"
    },
    {
     "data": {
      "text/markdown": [
       "$$P(k+1): \\left(5 - 2 \\left(k + 1\\right)\\right) + \\left(- k^{2} + 4 k\\right) = - \\left(k + 1\\right)^{2} + 4 \\left(k + 1\\right)$$"
      ],
      "text/plain": [
       "<IPython.core.display.Markdown object>"
      ]
     },
     "metadata": {},
     "output_type": "display_data"
    },
    {
     "data": {
      "text/markdown": [
       "$$P(k+1): - k^{2} + 2 k + 3 = - k^{2} + 2 k + 3$$"
      ],
      "text/plain": [
       "<IPython.core.display.Markdown object>"
      ]
     },
     "metadata": {},
     "output_type": "display_data"
    },
    {
     "data": {
      "text/markdown": [
       "$$P(k+1) \\equiv V$$"
      ],
      "text/plain": [
       "<IPython.core.display.Markdown object>"
      ]
     },
     "metadata": {},
     "output_type": "display_data"
    },
    {
     "data": {
      "text/latex": [
       "$\\displaystyle \\text{Finalmente:}$"
      ],
      "text/plain": [
       "<IPython.core.display.Math object>"
      ]
     },
     "metadata": {},
     "output_type": "display_data"
    },
    {
     "data": {
      "text/markdown": [
       "$$P(k) \\rightarrow P(k+1) \\equiv V$$"
      ],
      "text/plain": [
       "<IPython.core.display.Markdown object>"
      ]
     },
     "metadata": {},
     "output_type": "display_data"
    },
    {
     "data": {
      "text/markdown": [
       "$$\\therefore P(n) \\equiv V$$"
      ],
      "text/plain": [
       "<IPython.core.display.Markdown object>"
      ]
     },
     "metadata": {},
     "output_type": "display_data"
    }
   ],
   "source": [
    "casos = [(\"2*i+3\", \"n**2+4*n\"),\n",
    "(\"4*i+5\", \"2*n**2+7*n\"),\n",
    "(\"3*i-2\", \"(n*(3*n-1))/2\"),\n",
    "(\"6-i\", \"(n*(11-n))/2\"),\n",
    "(\"5-2*i\", \"4*n-n**2\")]\n",
    "\n",
    "for ej, (term, sum) in enumerate(casos, 1):\n",
    "    display(Md(f\"### Ejercicio {ej}\"))\n",
    "    prueba_induccion(1, term, sum)"
   ]
  }
 ],
 "metadata": {
  "kernelspec": {
   "display_name": "Python 3",
   "language": "python",
   "name": "python3"
  },
  "language_info": {
   "codemirror_mode": {
    "name": "ipython",
    "version": 3
   },
   "file_extension": ".py",
   "mimetype": "text/x-python",
   "name": "python",
   "nbconvert_exporter": "python",
   "pygments_lexer": "ipython3",
   "version": "3.10.12"
  },
  "orig_nbformat": 4
 },
 "nbformat": 4,
 "nbformat_minor": 2
}
