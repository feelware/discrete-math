{
 "cells": [
  {
   "cell_type": "markdown",
   "metadata": {},
   "source": [
    "# Inducción y Sumatoria\n",
    "\n",
    "- **Alumno**: Jesus Stevan Diaz Ingol\n",
    "- **Curso**: Matemática Discreta\n",
    "- **Docente**: Dr. Ciro Rodríguez Rodríguez\n",
    "\n",
    "*UNMSM. 2023*"
   ]
  },
  {
   "cell_type": "markdown",
   "metadata": {},
   "source": [
    "## Funciones\n",
    "Estas funciones serán usadas en los siguientes ejemplos y ejercicios.\n",
    "\n",
    "**Importante: En caso se desee ejectuar esta notebook localmente, la librería Sympy debe estar instalada.**\n",
    "Para instalarla, ejecutar:\n",
    "```bash\n",
    "pip install sympy\n",
    "```"
   ]
  },
  {
   "cell_type": "code",
   "execution_count": null,
   "metadata": {},
   "outputs": [],
   "source": [
    "from IPython.display import display, Math, Markdown as Md\n",
    "from sympy import symbols, sympify, expand, latex, evaluate as eva\n",
    "\n",
    "def prueba_induccion(base, term, sum):\n",
    "    i, n, k = symbols('i n k')\n",
    "    term, sum = sympify(term), sympify(sum)\n",
    "\n",
    "    # Definimos predicado\n",
    "\n",
    "    display(Math(f\"\\\\text{{Queremos demostrar }} \\\\forall n \\in \\mathbb{{Z}}, n \\geq {base}:\"))\n",
    "    display(Md(f\"$$P(n): \\sum_{{i={base}}}^n ({latex(term)}) = {latex(sum)} \\equiv V$$\"))\n",
    "\n",
    "    # Evaluamos caso base\n",
    "\n",
    "    display(Math(f\"\\\\text{{Evaluamos caso base P({base}):}}\"))\n",
    "    \n",
    "    with eva(False): \n",
    "        ant, cons = term.subs(i, base), sum.subs(n, base)\n",
    "    display(Md(f\"$$P({base}): {latex(ant)} = {latex(cons)}$$\"))\n",
    "\n",
    "    ant, cons = term.subs(i, base), sum.subs(n, base)\n",
    "    display(Md(f\"$$P({base}): {latex(ant)} = {latex(cons)}$$\"))\n",
    "\n",
    "    if ant == cons:\n",
    "        display(Md(f\"$$P({base}) \\equiv V$$\"))\n",
    "    else:\n",
    "        display(Md(f\"$$P({base}) \\equiv F$$\"))\n",
    "        display(Math(f\"$$\\\\text{{Finalmente:}}$$\"))\n",
    "        display(Md(f\"$$P(n) \\equiv F$$\"))\n",
    "        return False\n",
    "    \n",
    "    # Evaluamos caso inductivo\n",
    "    \n",
    "    display(Math(\"\\\\text{{Asumiendo }} P(k) \\equiv V \\\\text{{ evaluamos }} P(k+1):\"))\n",
    "\n",
    "    with eva(False): \n",
    "        ant = f\"\\sum_{{i={base}}}^{{{k+1}}} ({latex(term)})\"\n",
    "        cons = f\"{latex(sum.subs(n, k+1))}\"\n",
    "        display(Md(f\"$$P(k+1): {ant} = {cons}$$\"))\n",
    "\n",
    "        ant = f\"\\sum_{{i={base}}}^{{{k}}} ({latex(term)}) + ({latex(term.subs(i, k+1))})\"\n",
    "        display(Md(f\"$$P(k+1): {ant} = {cons}$$\"))\n",
    "\n",
    "        ant, cons = sum.subs(n, k) + term.subs(i, k+1), sum.subs(n, k+1)\n",
    "        display(Md(f\"$$P(k+1): {latex(ant)} = {latex(cons)}$$\"))\n",
    "\n",
    "    ant, cons = expand(ant), expand(cons)\n",
    "    display(Md(f\"$$P(k+1): {latex(ant)} = {latex(cons)}$$\"))\n",
    "\n",
    "    if ant == cons:\n",
    "        display(Md(f\"$$P(k+1) \\equiv V$$\"))\n",
    "        display(Math(f\"\\\\text{{Finalmente:}}\"))\n",
    "        display(Md(f\"$$P(k) \\\\rightarrow P(k+1) \\equiv V$$\"))\n",
    "        display(Md(f\"$$\\\\therefore P(n) \\equiv V$$\"))\n",
    "    else:\n",
    "        display(Md(f\"$$P(k+1) \\equiv F$$\"))\n",
    "        display(Math(f\"\\\\text{{Finalmente:}}\"))\n",
    "        display(Md(f\"$$P(k) \\\\rightarrow P(k+1) \\equiv F$$\"))\n",
    "        display(Md(f\"$$\\\\therefore P(n) \\equiv F$$\"))\n",
    "        return False\n",
    "    \n",
    "    return True"
   ]
  },
  {
   "cell_type": "markdown",
   "metadata": {},
   "source": [
    "## Ejemplo 1\n",
    "$\\text{¿Cómo sumar los primeros 100 números naturales?}$\n",
    "\n",
    "### Resolución\n",
    "$\\text{La suma de los primeros 100 números naturales se puede expresar como la siguiente sumatoria:}$\n",
    "\n",
    "$$\\sum_{i=1}^{100} i$$\n",
    "\n",
    "$\\text{La cual equivale a la siguiente expresión:}$\n",
    "\n",
    "$$\\frac{100(100+1)}{2}$$\n",
    "\n",
    "$\\text{En general, la suma de los primeros } n \\text{ números naturales se puede expresar como:}$\n",
    "\n",
    "$$\\sum_{i=1}^{n} i = \\frac{n(n+1)}{2}$$\n",
    "\n",
    "$\\text{Lo cual se puede demostrar por inducción matemática.}$"
   ]
  },
  {
   "cell_type": "code",
   "execution_count": null,
   "metadata": {},
   "outputs": [],
   "source": [
    "prueba_induccion(1, \"i\", \"n*(n+1)/2\")"
   ]
  },
  {
   "cell_type": "markdown",
   "metadata": {},
   "source": [
    "## Ejemplo 2\n",
    "$\\text{Probar } \\forall n \\in \\mathbb{N}$\n",
    "\n",
    "$$\\sum_{i=1}^{n} i(i+2) = \\frac{n(n+1)(2n+7)}{6}$$"
   ]
  },
  {
   "cell_type": "code",
   "execution_count": null,
   "metadata": {},
   "outputs": [],
   "source": [
    "prueba_induccion(1, \"i*(i+2)\", \"(n*(n+1)*(2*n+7))/6\")"
   ]
  },
  {
   "cell_type": "markdown",
   "metadata": {},
   "source": [
    "## Ejercicios\n",
    "$\\text{Demostrar } \\forall n \\in \\mathbb{N}$\n",
    "\n",
    "$$\\sum_{i=1}^{n} (2n+3) = n²+4n$$\n",
    "$$\\sum_{i=1}^{n} (4n+5) = 2n²+7n$$\n",
    "$$\\sum_{i=1}^{n} (3n-2) = \\frac{n(3n-1)}{2}$$\n",
    "$$\\sum_{i=1}^{n} (6-n) = \\frac{n(11-n)}{2}$$\n",
    "$$\\sum_{i=1}^{n} (5-2n) = 4n-n^2$$"
   ]
  },
  {
   "cell_type": "code",
   "execution_count": null,
   "metadata": {},
   "outputs": [],
   "source": [
    "casos = [(\"2*i+3\", \"n**2+4*n\"),\n",
    "(\"4*i+5\", \"2*n**2+7*n\"),\n",
    "(\"3*i-2\", \"(n*(3*n-1))/2\"),\n",
    "(\"6-i\", \"(n*(11-n))/2\"),\n",
    "(\"5-2*i\", \"4*n-n**2\")]\n",
    "\n",
    "for ej, (term, sum) in enumerate(casos, 1):\n",
    "    display(Md(f\"### Ejercicio {ej}\"))\n",
    "    prueba_induccion(1, term, sum)"
   ]
  }
 ],
 "metadata": {
  "kernelspec": {
   "display_name": "Python 3",
   "language": "python",
   "name": "python3"
  },
  "language_info": {
   "codemirror_mode": {
    "name": "ipython",
    "version": 3
   },
   "file_extension": ".py",
   "mimetype": "text/x-python",
   "name": "python",
   "nbconvert_exporter": "python",
   "pygments_lexer": "ipython3",
   "version": "3.10.12"
  },
  "orig_nbformat": 4
 },
 "nbformat": 4,
 "nbformat_minor": 2
}
