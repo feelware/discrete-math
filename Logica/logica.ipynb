{
 "cells": [
  {
   "cell_type": "markdown",
   "metadata": {},
   "source": [
    "# Lógica Matemática\n",
    "\n",
    "- **Alumno**: Jesus Stevan Diaz Ingol\n",
    "- **Curso**: Matemática Discreta\n",
    "- **Docente**: Dr. Ciro Rodríguez Rodríguez\n",
    "\n",
    "*UNMSM. 2023*"
   ]
  },
  {
   "cell_type": "markdown",
   "metadata": {},
   "source": [
    "## Funciones\n",
    "Estas funciones serán usadas en los siguientes ejemplos y ejercicios."
   ]
  },
  {
   "cell_type": "code",
   "execution_count": 1,
   "metadata": {},
   "outputs": [],
   "source": [
    "from sympy.logic.boolalg import truth_table\n",
    "import re\n",
    "\n",
    "def replace_symbols(proposicion):\n",
    "    return proposicion.replace(\"&\", \"∧\").replace(\"|\", \"∨\").replace(\">>\", \"→\").replace(\"False\", \"F\").replace(\"True\", \"V\")\n",
    "\n",
    "# Función que obtiene la tabla de verdad de una proposición\n",
    "# y determina si es una tautología o no.\n",
    "\n",
    "def is_tautology(proposicion):\n",
    "    variables = sorted(list(set(re.findall(r\"[a-z]\", proposicion))))\n",
    "    table = truth_table(proposicion, variables)\n",
    "\n",
    "    for v in variables: print(v, end=\" · \")\n",
    "    print(replace_symbols(proposicion))\n",
    "    tautologia, contradiccion = True, True\n",
    "    for t in table:\n",
    "        for val in t[0]:\n",
    "            print(str(val).translate(str.maketrans(\"10\",\"VF\")), end=\" · \")\n",
    "        print(str(t[1]).replace(\"False\", \"F\").replace(\"True\", \"V\"))\n",
    "        if t[1] == False: tautologia = False\n",
    "        else : contradiccion = False\n",
    "    print(\"La proposición es una\", end=\" \")\n",
    "    if tautologia: print(\"tautología.\\n\")\n",
    "    elif contradiccion: print(\"contradicción.\\n\")\n",
    "    else: print(\"contingencia.\\n\")"
   ]
  },
  {
   "cell_type": "code",
   "execution_count": 2,
   "metadata": {},
   "outputs": [],
   "source": [
    "from sympy import symbols\n",
    "import re\n",
    "\n",
    "p, q, r, s = symbols('p q r s')\n",
    "\n",
    "def evaluate_atom(proposicion, dict):\n",
    "    for key in dict.keys():\n",
    "        # proposicion = proposicion.replace(key, str(dict[key]))\n",
    "        proposicion = re.sub(r\"\\b(\" + key + r\")\\b\", str(dict[key]), proposicion)\n",
    "\n",
    "        # proposicion = proposicion.replace(\"~\" + key, str(not dict[key]))\n",
    "        proposicion = re.sub(r\"\\b(~\" + key + r\")\\b\", str(not dict[key]), proposicion)\n",
    "\n",
    "    return proposicion\n",
    "\n",
    "# Función que deriva el valor de verdad de una proposición compuesta\n",
    "# dado que uno de sus componentes atómicos es verdadero (ejemplo: p = V)\n",
    "\n",
    "def derive(proposicion, dict):\n",
    "    # Expresión original\n",
    "    print(replace_symbols(proposicion[1:-1]))\n",
    "    # Reemplazando p por V y ~p por F\n",
    "    print(replace_symbols(evaluate_atom(proposicion[1:-1], dict)))\n",
    "    nueva_proposicion = proposicion\n",
    "    # Evaluando recursivamente las proposiciones simples entre paréntesis\n",
    "    while True:\n",
    "        if re.search(r\"\\(((?:\\\"\\(|\\)\\\"|[^()])+)\\)\", nueva_proposicion[1:-1]):\n",
    "            nueva_proposicion = replace_symbols(evaluate_atom(re.sub(\n",
    "                r\"\\(((?:\\\"\\(|\\)\\\"|[^()])+)\\)\", \n",
    "                lambda match: str(eval(match.group(0) + \".subs(\" + str(dict) + \")\")),\n",
    "                proposicion\n",
    "            ), dict))\n",
    "            print(nueva_proposicion)\n",
    "        else:\n",
    "            break\n",
    "    # Evaluando la expresión completa\n",
    "    print(\"∴\",\n",
    "        replace_symbols(\n",
    "            str(eval(\n",
    "            proposicion + \".subs(\" + str(dict) + \")\"\n",
    "        )))\n",
    "        , end=\"\\n\\n\"\n",
    "    )"
   ]
  },
  {
   "cell_type": "markdown",
   "metadata": {},
   "source": [
    "## Ejemplos\n",
    "Desarrollo de los ejemplos presentados en la diapositiva de la clase, desde la página 10 hasta la 15."
   ]
  },
  {
   "cell_type": "markdown",
   "metadata": {},
   "source": [
    "### Ejemplo 1\n",
    "Dada la siguiente forma proposicional. Construya la tabla de verdad de una forma proposicional."
   ]
  },
  {
   "cell_type": "code",
   "execution_count": 3,
   "metadata": {},
   "outputs": [
    {
     "name": "stdout",
     "output_type": "stream",
     "text": [
      "p · q · r · (((p ∧ q) → (r ∨ ~p)) ∧ r)\n",
      "F · F · F · F\n",
      "F · F · V · V\n",
      "F · V · F · F\n",
      "F · V · V · V\n",
      "V · F · F · F\n",
      "V · F · V · V\n",
      "V · V · F · F\n",
      "V · V · V · V\n",
      "La proposición es una contingencia.\n",
      "\n"
     ]
    }
   ],
   "source": [
    "A = \"(((p & q) >> (r | ~p)) & r)\"\n",
    "is_tautology(A)"
   ]
  },
  {
   "cell_type": "markdown",
   "metadata": {},
   "source": [
    "### Ejemplo 2\n",
    "Construir la tabla de verdad para la siguiente forma proposicional."
   ]
  },
  {
   "cell_type": "code",
   "execution_count": 4,
   "metadata": {},
   "outputs": [
    {
     "name": "stdout",
     "output_type": "stream",
     "text": [
      "p · q · (((~p → (q ∧ p)) → ~q) ∧ ((~p → (q ∧ p)) << ~q))\n",
      "F · F · F\n",
      "F · V · V\n",
      "V · F · V\n",
      "V · V · F\n",
      "La proposición es una contingencia.\n",
      "\n"
     ]
    }
   ],
   "source": [
    "B = \"(((~p >> (q & p)) >> ~q) & ((~p >> (q & p)) << ~q))\"\n",
    "is_tautology(B)"
   ]
  },
  {
   "cell_type": "markdown",
   "metadata": {},
   "source": [
    "### Ejemplo 3\n",
    "Construir la tabla de verdad para la siguiente forma proposicional."
   ]
  },
  {
   "cell_type": "code",
   "execution_count": 5,
   "metadata": {},
   "outputs": [
    {
     "name": "stdout",
     "output_type": "stream",
     "text": [
      "p · q · r · ((~p ∧ (q ∨ r)) → ((p ∨ r) ∧ q))\n",
      "F · F · F · V\n",
      "F · F · V · F\n",
      "F · V · F · F\n",
      "F · V · V · V\n",
      "V · F · F · V\n",
      "V · F · V · V\n",
      "V · V · F · V\n",
      "V · V · V · V\n",
      "La proposición es una contingencia.\n",
      "\n"
     ]
    }
   ],
   "source": [
    "C = \"((~p & (q | r)) >> ((p | r) & q))\"\n",
    "is_tautology(C)"
   ]
  },
  {
   "cell_type": "markdown",
   "metadata": {},
   "source": [
    "### Ejemplo 4\n",
    "Determinar si la siguiente forma proposicional es tautológica, contradictoria, o si es una contingencia."
   ]
  },
  {
   "cell_type": "code",
   "execution_count": 6,
   "metadata": {},
   "outputs": [
    {
     "name": "stdout",
     "output_type": "stream",
     "text": [
      "p · q · (((~(p ∨ q) → (~q ∧ ~p)) ∧ (~(p ∨ q) << (~q ∧ ~p))) ∨ p)\n",
      "F · F · V\n",
      "F · V · V\n",
      "V · F · V\n",
      "V · V · V\n",
      "La proposición es una tautología.\n",
      "\n"
     ]
    }
   ],
   "source": [
    "proposicion = \"(((~(p | q) >> (~q & ~p)) & (~(p | q) << (~q & ~p))) | p)\"\n",
    "is_tautology(proposicion)"
   ]
  },
  {
   "cell_type": "markdown",
   "metadata": {},
   "source": [
    "### Ejemplo 5\n",
    "Determinar el valor de verdad de las siguientes expresiones, si se sabe que $p$ es verdadero, $q$ es falso, $r$ es verdadero y $s$ es falso."
   ]
  },
  {
   "cell_type": "code",
   "execution_count": 7,
   "metadata": {},
   "outputs": [
    {
     "name": "stdout",
     "output_type": "stream",
     "text": [
      "(q → ~r) ∧ s\n",
      "(F → ~V) ∧ F\n",
      "(V ∧ F)\n",
      "∴ F\n",
      "\n",
      "(p ∧ r) ∨ (p ∧ q)\n",
      "(V ∧ V) ∨ (V ∧ F)\n",
      "(V ∨ F)\n",
      "∴ V\n",
      "\n"
     ]
    }
   ],
   "source": [
    "a = \"((q >> ~r) & s)\"\n",
    "b = \"((p & r) | (p & q))\"\n",
    "\n",
    "estado = {\"p\": True, \"q\": False, \"r\": True, \"s\": False}\n",
    "\n",
    "derive(a, estado)\n",
    "derive(b, estado)"
   ]
  },
  {
   "cell_type": "markdown",
   "metadata": {},
   "source": [
    "# Ejercicios\n",
    "Desarrollo de los ejercicios propuestos en la página 15 de la diapositiva de la clase."
   ]
  },
  {
   "cell_type": "markdown",
   "metadata": {},
   "source": [
    "### Ejercicio 1\n",
    "Se sabe que únicamente $p$ es verdadero (V) ¿Qué puede afirmarse del valor de verdad de cada una las proposiciones siguientes?"
   ]
  },
  {
   "cell_type": "code",
   "execution_count": 8,
   "metadata": {},
   "outputs": [
    {
     "name": "stdout",
     "output_type": "stream",
     "text": [
      "p ∧ q\n",
      "V ∧ q\n",
      "∴ q\n",
      "\n",
      "r ∨ p\n",
      "r ∨ V\n",
      "∴ V\n",
      "\n",
      "r ∧ p\n",
      "r ∧ V\n",
      "∴ r\n",
      "\n",
      "r → p\n",
      "r → V\n",
      "∴ V\n",
      "\n",
      "p → q\n",
      "V → q\n",
      "∴ q\n",
      "\n",
      "s ∨ ~p\n",
      "s ∨ ~V\n",
      "∴ s\n",
      "\n",
      "p → (p ∨ s)\n",
      "V → (V ∨ s)\n",
      "(V → V)\n",
      "∴ V\n",
      "\n",
      "~p → (q ∧ r)\n",
      "~V → (q ∧ r)\n",
      "(~V → q ∧ r)\n",
      "∴ V\n",
      "\n",
      "s → ~p\n",
      "s → ~V\n",
      "∴ ~s\n",
      "\n",
      "r → (s → p)\n",
      "r → (s → V)\n",
      "(r → V)\n",
      "∴ V\n",
      "\n",
      "(p ∨ s) → (q ∧ ~p)\n",
      "(V ∨ s) → (q ∧ ~V)\n",
      "(V → F)\n",
      "∴ F\n",
      "\n",
      "(q ∧ ~p) → (r ∧ q)\n",
      "(q ∧ ~V) → (r ∧ q)\n",
      "(F → q ∧ r)\n",
      "∴ V\n",
      "\n"
     ]
    }
   ],
   "source": [
    "proposiciones = [\n",
    "    \"(p & q)\",\n",
    "    \"(r | p)\",\n",
    "    \"(r & p)\",\n",
    "    \"(r >> p)\",\n",
    "    \"(p >> q)\",\n",
    "    \"(s | ~p)\",\n",
    "    \"(p >> (p | s))\",\n",
    "    \"(~p >> (q & r))\",\n",
    "    \"(s >> ~p)\",\n",
    "    \"(r >> (s >> p))\",\n",
    "    \"((p | s) >> (q & ~p))\",\n",
    "    \"((q & ~p) >> (r & q))\"\n",
    "]\n",
    "\n",
    "for proposicion in proposiciones:\n",
    "    derive(proposicion, {\"p\": True})"
   ]
  },
  {
   "cell_type": "markdown",
   "metadata": {},
   "source": [
    "### Ejercicio 2\n",
    "Determinar cuáles de las siguientes proposiciones son tautologías:"
   ]
  },
  {
   "cell_type": "code",
   "execution_count": 9,
   "metadata": {},
   "outputs": [
    {
     "name": "stdout",
     "output_type": "stream",
     "text": [
      "p · q · r · (p ∧ q) → (p ∧ r)\n",
      "F · F · F · V\n",
      "F · F · V · V\n",
      "F · V · F · V\n",
      "F · V · V · V\n",
      "V · F · F · V\n",
      "V · F · V · V\n",
      "V · V · F · F\n",
      "V · V · V · V\n",
      "La proposición es una contingencia.\n",
      "\n",
      "p · q · p → (p ∧ q)\n",
      "F · F · V\n",
      "F · V · V\n",
      "V · F · F\n",
      "V · V · V\n",
      "La proposición es una contingencia.\n",
      "\n",
      "p · q · p ∧ ~(q ∨ p)\n",
      "F · F · F\n",
      "F · V · F\n",
      "V · F · F\n",
      "V · V · F\n",
      "La proposición es una contradicción.\n",
      "\n",
      "p · q · (p → (q ∨ ~p)) → ~q\n",
      "F · F · V\n",
      "F · V · F\n",
      "V · F · V\n",
      "V · V · F\n",
      "La proposición es una contingencia.\n",
      "\n",
      "p · q · (p → q) → (~q → p)\n",
      "F · F · F\n",
      "F · V · V\n",
      "V · F · V\n",
      "V · V · V\n",
      "La proposición es una contingencia.\n",
      "\n",
      "p · q · ((p → q) ∧ (p << q)) ∧ (p ∧ ~q)\n",
      "F · F · F\n",
      "F · V · F\n",
      "V · F · F\n",
      "V · V · F\n",
      "La proposición es una contradicción.\n",
      "\n",
      "p · q · r · p ∧ ~((p ∨ q) ∨ r)\n",
      "F · F · F · F\n",
      "F · F · V · F\n",
      "F · V · F · F\n",
      "F · V · V · F\n",
      "V · F · F · F\n",
      "V · F · V · F\n",
      "V · V · F · F\n",
      "V · V · V · F\n",
      "La proposición es una contradicción.\n",
      "\n",
      "p · r · p ∨ (~p ∨ r)\n",
      "F · F · V\n",
      "F · V · V\n",
      "V · F · V\n",
      "V · V · V\n",
      "La proposición es una tautología.\n",
      "\n"
     ]
    }
   ],
   "source": [
    "proposiciones = [\n",
    "    \"(p & q) >> (p & r)\",\n",
    "    \"p >> (p & q)\",\n",
    "    \"p & ~(q | p)\",\n",
    "    \"(p >> (q | ~p)) >> ~q\",\n",
    "    \"(p >> q) >> (~q >> p)\", \n",
    "    \"((p >> q) & (p << q)) & (p & ~q)\",\n",
    "    \"p & ~((p | q) | r)\",\n",
    "    \"p | (~p | r)\"\n",
    "]\n",
    "\n",
    "for proposicion in proposiciones:\n",
    "    is_tautology(proposicion)"
   ]
  }
 ],
 "metadata": {
  "kernelspec": {
   "display_name": "Python 3",
   "language": "python",
   "name": "python3"
  },
  "language_info": {
   "codemirror_mode": {
    "name": "ipython",
    "version": 3
   },
   "file_extension": ".py",
   "mimetype": "text/x-python",
   "name": "python",
   "nbconvert_exporter": "python",
   "pygments_lexer": "ipython3",
   "version": "3.10.12"
  },
  "orig_nbformat": 4
 },
 "nbformat": 4,
 "nbformat_minor": 2
}
